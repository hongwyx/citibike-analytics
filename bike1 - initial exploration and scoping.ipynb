{
 "cells": [
  {
   "cell_type": "markdown",
   "metadata": {},
   "source": [
    "# Abtract"
   ]
  },
  {
   "cell_type": "markdown",
   "metadata": {},
   "source": [
    "(To be completed!)"
   ]
  },
  {
   "cell_type": "markdown",
   "metadata": {},
   "source": [
    "# Imports"
   ]
  },
  {
   "cell_type": "code",
   "execution_count": 4,
   "metadata": {},
   "outputs": [],
   "source": [
    "import pandas as pd\n",
    "import numpy as np\n",
    "import matplotlib.pyplot as plt\n",
    "%matplotlib inline\n",
    "import seaborn as sns\n",
    "import datetime"
   ]
  },
  {
   "cell_type": "markdown",
   "metadata": {},
   "source": [
    "# Read files"
   ]
  },
  {
   "cell_type": "markdown",
   "metadata": {},
   "source": [
    "We obtained 12-month worth of citi bike trip data, from 2018.04 to 2019.03. Each month worth of data is in a .csv file, and here we will append them into one dataframe, which adds up to about 18 million records of trips."
   ]
  },
  {
   "cell_type": "code",
   "execution_count": 2,
   "metadata": {},
   "outputs": [],
   "source": [
    "l = []\n",
    "for s in ['201804', '201805', '201806', '201807', '201808', '201809', '201810','201811', '201812', '201901', '201902','201903']:\n",
    "    df = pd.read_csv('/Users/yhong/Documents/data/citibike/'+s+'-citibike-tripdata.csv')\n",
    "    l.append(df)\n",
    "df = pd.concat(l)"
   ]
  },
  {
   "cell_type": "markdown",
   "metadata": {},
   "source": [
    "What kind of information does the dataset have? Here are its columns (fields), size (shape), and a taste of the first 5 rows:"
   ]
  },
  {
   "cell_type": "code",
   "execution_count": 3,
   "metadata": {},
   "outputs": [
    {
     "data": {
      "text/plain": [
       "Index(['tripduration', 'starttime', 'stoptime', 'start station id',\n",
       "       'start station name', 'start station latitude',\n",
       "       'start station longitude', 'end station id', 'end station name',\n",
       "       'end station latitude', 'end station longitude', 'bikeid', 'usertype',\n",
       "       'birth year', 'gender'],\n",
       "      dtype='object')"
      ]
     },
     "metadata": {},
     "output_type": "display_data"
    },
    {
     "data": {
      "text/plain": [
       "(18248550, 15)"
      ]
     },
     "metadata": {},
     "output_type": "display_data"
    },
    {
     "data": {
      "text/html": [
       "<div>\n",
       "<style scoped>\n",
       "    .dataframe tbody tr th:only-of-type {\n",
       "        vertical-align: middle;\n",
       "    }\n",
       "\n",
       "    .dataframe tbody tr th {\n",
       "        vertical-align: top;\n",
       "    }\n",
       "\n",
       "    .dataframe thead th {\n",
       "        text-align: right;\n",
       "    }\n",
       "</style>\n",
       "<table border=\"1\" class=\"dataframe\">\n",
       "  <thead>\n",
       "    <tr style=\"text-align: right;\">\n",
       "      <th></th>\n",
       "      <th>tripduration</th>\n",
       "      <th>starttime</th>\n",
       "      <th>stoptime</th>\n",
       "      <th>start station id</th>\n",
       "      <th>start station name</th>\n",
       "      <th>start station latitude</th>\n",
       "      <th>start station longitude</th>\n",
       "      <th>end station id</th>\n",
       "      <th>end station name</th>\n",
       "      <th>end station latitude</th>\n",
       "      <th>end station longitude</th>\n",
       "      <th>bikeid</th>\n",
       "      <th>usertype</th>\n",
       "      <th>birth year</th>\n",
       "      <th>gender</th>\n",
       "    </tr>\n",
       "  </thead>\n",
       "  <tbody>\n",
       "    <tr>\n",
       "      <th>0</th>\n",
       "      <td>840</td>\n",
       "      <td>2018-04-01 03:07:39.0700</td>\n",
       "      <td>2018-04-01 03:21:39.1280</td>\n",
       "      <td>72.0</td>\n",
       "      <td>W 52 St &amp; 11 Ave</td>\n",
       "      <td>40.767272</td>\n",
       "      <td>-73.993929</td>\n",
       "      <td>379.0</td>\n",
       "      <td>W 31 St &amp; 7 Ave</td>\n",
       "      <td>40.749156</td>\n",
       "      <td>-73.991600</td>\n",
       "      <td>31977</td>\n",
       "      <td>Subscriber</td>\n",
       "      <td>1973</td>\n",
       "      <td>1</td>\n",
       "    </tr>\n",
       "    <tr>\n",
       "      <th>1</th>\n",
       "      <td>1438</td>\n",
       "      <td>2018-04-01 07:20:02.2150</td>\n",
       "      <td>2018-04-01 07:44:00.5690</td>\n",
       "      <td>72.0</td>\n",
       "      <td>W 52 St &amp; 11 Ave</td>\n",
       "      <td>40.767272</td>\n",
       "      <td>-73.993929</td>\n",
       "      <td>426.0</td>\n",
       "      <td>West St &amp; Chambers St</td>\n",
       "      <td>40.717548</td>\n",
       "      <td>-74.013221</td>\n",
       "      <td>21403</td>\n",
       "      <td>Subscriber</td>\n",
       "      <td>1956</td>\n",
       "      <td>1</td>\n",
       "    </tr>\n",
       "    <tr>\n",
       "      <th>2</th>\n",
       "      <td>219</td>\n",
       "      <td>2018-04-01 08:11:14.4060</td>\n",
       "      <td>2018-04-01 08:14:53.7880</td>\n",
       "      <td>72.0</td>\n",
       "      <td>W 52 St &amp; 11 Ave</td>\n",
       "      <td>40.767272</td>\n",
       "      <td>-73.993929</td>\n",
       "      <td>447.0</td>\n",
       "      <td>8 Ave &amp; W 52 St</td>\n",
       "      <td>40.763707</td>\n",
       "      <td>-73.985162</td>\n",
       "      <td>29081</td>\n",
       "      <td>Subscriber</td>\n",
       "      <td>1974</td>\n",
       "      <td>1</td>\n",
       "    </tr>\n",
       "    <tr>\n",
       "      <th>3</th>\n",
       "      <td>410</td>\n",
       "      <td>2018-04-01 08:52:32.3730</td>\n",
       "      <td>2018-04-01 08:59:23.2190</td>\n",
       "      <td>72.0</td>\n",
       "      <td>W 52 St &amp; 11 Ave</td>\n",
       "      <td>40.767272</td>\n",
       "      <td>-73.993929</td>\n",
       "      <td>173.0</td>\n",
       "      <td>Broadway &amp; W 49 St</td>\n",
       "      <td>40.760683</td>\n",
       "      <td>-73.984527</td>\n",
       "      <td>32130</td>\n",
       "      <td>Subscriber</td>\n",
       "      <td>1983</td>\n",
       "      <td>1</td>\n",
       "    </tr>\n",
       "    <tr>\n",
       "      <th>4</th>\n",
       "      <td>485</td>\n",
       "      <td>2018-04-01 09:37:34.3270</td>\n",
       "      <td>2018-04-01 09:45:39.9980</td>\n",
       "      <td>72.0</td>\n",
       "      <td>W 52 St &amp; 11 Ave</td>\n",
       "      <td>40.767272</td>\n",
       "      <td>-73.993929</td>\n",
       "      <td>3159.0</td>\n",
       "      <td>W 67 St &amp; Broadway</td>\n",
       "      <td>40.774925</td>\n",
       "      <td>-73.982666</td>\n",
       "      <td>30055</td>\n",
       "      <td>Subscriber</td>\n",
       "      <td>1978</td>\n",
       "      <td>1</td>\n",
       "    </tr>\n",
       "  </tbody>\n",
       "</table>\n",
       "</div>"
      ],
      "text/plain": [
       "   tripduration                 starttime                  stoptime  \\\n",
       "0           840  2018-04-01 03:07:39.0700  2018-04-01 03:21:39.1280   \n",
       "1          1438  2018-04-01 07:20:02.2150  2018-04-01 07:44:00.5690   \n",
       "2           219  2018-04-01 08:11:14.4060  2018-04-01 08:14:53.7880   \n",
       "3           410  2018-04-01 08:52:32.3730  2018-04-01 08:59:23.2190   \n",
       "4           485  2018-04-01 09:37:34.3270  2018-04-01 09:45:39.9980   \n",
       "\n",
       "   start station id start station name  start station latitude  \\\n",
       "0              72.0   W 52 St & 11 Ave               40.767272   \n",
       "1              72.0   W 52 St & 11 Ave               40.767272   \n",
       "2              72.0   W 52 St & 11 Ave               40.767272   \n",
       "3              72.0   W 52 St & 11 Ave               40.767272   \n",
       "4              72.0   W 52 St & 11 Ave               40.767272   \n",
       "\n",
       "   start station longitude  end station id       end station name  \\\n",
       "0               -73.993929           379.0        W 31 St & 7 Ave   \n",
       "1               -73.993929           426.0  West St & Chambers St   \n",
       "2               -73.993929           447.0        8 Ave & W 52 St   \n",
       "3               -73.993929           173.0     Broadway & W 49 St   \n",
       "4               -73.993929          3159.0     W 67 St & Broadway   \n",
       "\n",
       "   end station latitude  end station longitude  bikeid    usertype  \\\n",
       "0             40.749156             -73.991600   31977  Subscriber   \n",
       "1             40.717548             -74.013221   21403  Subscriber   \n",
       "2             40.763707             -73.985162   29081  Subscriber   \n",
       "3             40.760683             -73.984527   32130  Subscriber   \n",
       "4             40.774925             -73.982666   30055  Subscriber   \n",
       "\n",
       "   birth year  gender  \n",
       "0        1973       1  \n",
       "1        1956       1  \n",
       "2        1974       1  \n",
       "3        1983       1  \n",
       "4        1978       1  "
      ]
     },
     "metadata": {},
     "output_type": "display_data"
    }
   ],
   "source": [
    "display(df.columns)\n",
    "display(df.shape)\n",
    "display(df.head())"
   ]
  },
  {
   "cell_type": "markdown",
   "metadata": {},
   "source": [
    "As shown above, for each trip, the record contains the start time, end time, duration of the trip, the station id, name, latitude, and longitude for the start and end stations, the id of the bike, as well as information on the rider: their gender, birth year, and user type (subscriber or customer.) "
   ]
  },
  {
   "cell_type": "markdown",
   "metadata": {},
   "source": [
    "To make our lives easier, we'll convert the start and end time columns to datetime objects."
   ]
  },
  {
   "cell_type": "code",
   "execution_count": 7,
   "metadata": {},
   "outputs": [],
   "source": [
    "df['starttime'] = pd.to_datetime(df['starttime'])\n",
    "df['stoptime'] = pd.to_datetime(df['stoptime'])"
   ]
  },
  {
   "cell_type": "markdown",
   "metadata": {},
   "source": [
    "# Cleaning"
   ]
  },
  {
   "cell_type": "markdown",
   "metadata": {},
   "source": [
    "Our first step is to clean the data. But before that, we need to make some assumption based on how the data is collected. We're going to assume that each time a bike is checked out, the trip start time, location, and bike id is automatically recorded; similarly, when the bike is checked back in after the trip, the end time and location is recorded. Ideally, each station will map to a unique station name, id, and location coordinates, but we will see that that is not actually the case -- and we'll figure out how to handle it. The rider information, on the other hand, we will assumed to be less accurate, since it is self-reported by the user -- for a \"Customer\", perhaps at the start of the rider, and for a \"Subscriber\", perhaps online. Our analysis later will prove that this is the case."
   ]
  },
  {
   "cell_type": "markdown",
   "metadata": {},
   "source": [
    "## Nan values"
   ]
  },
  {
   "cell_type": "markdown",
   "metadata": {},
   "source": [
    "First, we'll take a look at the null values in our data."
   ]
  },
  {
   "cell_type": "code",
   "execution_count": 9,
   "metadata": {},
   "outputs": [
    {
     "data": {
      "text/plain": [
       "tripduration                  0\n",
       "starttime                     0\n",
       "stoptime                      0\n",
       "start station id           2534\n",
       "start station name         2534\n",
       "start station latitude        0\n",
       "start station longitude       0\n",
       "end station id             2534\n",
       "end station name           2534\n",
       "end station latitude          0\n",
       "end station longitude         0\n",
       "bikeid                        0\n",
       "usertype                      0\n",
       "birth year                    0\n",
       "gender                        0\n",
       "dtype: int64"
      ]
     },
     "execution_count": 9,
     "metadata": {},
     "output_type": "execute_result"
    }
   ],
   "source": [
    "df.isna().sum()"
   ]
  },
  {
   "cell_type": "code",
   "execution_count": 5,
   "metadata": {},
   "outputs": [
    {
     "data": {
      "text/html": [
       "<div>\n",
       "<style scoped>\n",
       "    .dataframe tbody tr th:only-of-type {\n",
       "        vertical-align: middle;\n",
       "    }\n",
       "\n",
       "    .dataframe tbody tr th {\n",
       "        vertical-align: top;\n",
       "    }\n",
       "\n",
       "    .dataframe thead th {\n",
       "        text-align: right;\n",
       "    }\n",
       "</style>\n",
       "<table border=\"1\" class=\"dataframe\">\n",
       "  <thead>\n",
       "    <tr style=\"text-align: right;\">\n",
       "      <th></th>\n",
       "      <th>tripduration</th>\n",
       "      <th>starttime</th>\n",
       "      <th>stoptime</th>\n",
       "      <th>start station id</th>\n",
       "      <th>start station name</th>\n",
       "      <th>start station latitude</th>\n",
       "      <th>start station longitude</th>\n",
       "      <th>end station id</th>\n",
       "      <th>end station name</th>\n",
       "      <th>end station latitude</th>\n",
       "      <th>end station longitude</th>\n",
       "      <th>bikeid</th>\n",
       "      <th>usertype</th>\n",
       "      <th>birth year</th>\n",
       "      <th>gender</th>\n",
       "    </tr>\n",
       "  </thead>\n",
       "  <tbody>\n",
       "    <tr>\n",
       "      <th>875757</th>\n",
       "      <td>2544</td>\n",
       "      <td>2018-08-15 11:31:37.8670</td>\n",
       "      <td>2018-08-15 12:14:02.1290</td>\n",
       "      <td>NaN</td>\n",
       "      <td>NaN</td>\n",
       "      <td>40.857</td>\n",
       "      <td>-73.890</td>\n",
       "      <td>NaN</td>\n",
       "      <td>NaN</td>\n",
       "      <td>40.857</td>\n",
       "      <td>-73.890</td>\n",
       "      <td>34426</td>\n",
       "      <td>Subscriber</td>\n",
       "      <td>1971</td>\n",
       "      <td>2</td>\n",
       "    </tr>\n",
       "    <tr>\n",
       "      <th>875936</th>\n",
       "      <td>2004</td>\n",
       "      <td>2018-08-15 11:35:26.0140</td>\n",
       "      <td>2018-08-15 12:08:50.0360</td>\n",
       "      <td>NaN</td>\n",
       "      <td>NaN</td>\n",
       "      <td>40.857</td>\n",
       "      <td>-73.890</td>\n",
       "      <td>NaN</td>\n",
       "      <td>NaN</td>\n",
       "      <td>40.857</td>\n",
       "      <td>-73.887</td>\n",
       "      <td>34428</td>\n",
       "      <td>Subscriber</td>\n",
       "      <td>1976</td>\n",
       "      <td>2</td>\n",
       "    </tr>\n",
       "    <tr>\n",
       "      <th>877673</th>\n",
       "      <td>213</td>\n",
       "      <td>2018-08-15 12:10:37.4360</td>\n",
       "      <td>2018-08-15 12:14:11.2920</td>\n",
       "      <td>NaN</td>\n",
       "      <td>NaN</td>\n",
       "      <td>40.857</td>\n",
       "      <td>-73.890</td>\n",
       "      <td>NaN</td>\n",
       "      <td>NaN</td>\n",
       "      <td>40.857</td>\n",
       "      <td>-73.890</td>\n",
       "      <td>34428</td>\n",
       "      <td>Subscriber</td>\n",
       "      <td>1976</td>\n",
       "      <td>2</td>\n",
       "    </tr>\n",
       "    <tr>\n",
       "      <th>877907</th>\n",
       "      <td>602</td>\n",
       "      <td>2018-08-15 12:15:17.3330</td>\n",
       "      <td>2018-08-15 12:25:19.7620</td>\n",
       "      <td>NaN</td>\n",
       "      <td>NaN</td>\n",
       "      <td>40.845</td>\n",
       "      <td>-73.902</td>\n",
       "      <td>NaN</td>\n",
       "      <td>NaN</td>\n",
       "      <td>40.857</td>\n",
       "      <td>-73.890</td>\n",
       "      <td>34525</td>\n",
       "      <td>Subscriber</td>\n",
       "      <td>1988</td>\n",
       "      <td>1</td>\n",
       "    </tr>\n",
       "    <tr>\n",
       "      <th>879270</th>\n",
       "      <td>511502</td>\n",
       "      <td>2018-08-15 12:41:41.9690</td>\n",
       "      <td>2018-08-21 10:46:44.6440</td>\n",
       "      <td>NaN</td>\n",
       "      <td>NaN</td>\n",
       "      <td>40.857</td>\n",
       "      <td>-73.890</td>\n",
       "      <td>NaN</td>\n",
       "      <td>NaN</td>\n",
       "      <td>40.857</td>\n",
       "      <td>-73.890</td>\n",
       "      <td>34548</td>\n",
       "      <td>Subscriber</td>\n",
       "      <td>1986</td>\n",
       "      <td>1</td>\n",
       "    </tr>\n",
       "  </tbody>\n",
       "</table>\n",
       "</div>"
      ],
      "text/plain": [
       "        tripduration                 starttime                  stoptime  \\\n",
       "875757          2544  2018-08-15 11:31:37.8670  2018-08-15 12:14:02.1290   \n",
       "875936          2004  2018-08-15 11:35:26.0140  2018-08-15 12:08:50.0360   \n",
       "877673           213  2018-08-15 12:10:37.4360  2018-08-15 12:14:11.2920   \n",
       "877907           602  2018-08-15 12:15:17.3330  2018-08-15 12:25:19.7620   \n",
       "879270        511502  2018-08-15 12:41:41.9690  2018-08-21 10:46:44.6440   \n",
       "\n",
       "        start station id start station name  start station latitude  \\\n",
       "875757               NaN                NaN                  40.857   \n",
       "875936               NaN                NaN                  40.857   \n",
       "877673               NaN                NaN                  40.857   \n",
       "877907               NaN                NaN                  40.845   \n",
       "879270               NaN                NaN                  40.857   \n",
       "\n",
       "        start station longitude  end station id end station name  \\\n",
       "875757                  -73.890             NaN              NaN   \n",
       "875936                  -73.890             NaN              NaN   \n",
       "877673                  -73.890             NaN              NaN   \n",
       "877907                  -73.902             NaN              NaN   \n",
       "879270                  -73.890             NaN              NaN   \n",
       "\n",
       "        end station latitude  end station longitude  bikeid    usertype  \\\n",
       "875757                40.857                -73.890   34426  Subscriber   \n",
       "875936                40.857                -73.887   34428  Subscriber   \n",
       "877673                40.857                -73.890   34428  Subscriber   \n",
       "877907                40.857                -73.890   34525  Subscriber   \n",
       "879270                40.857                -73.890   34548  Subscriber   \n",
       "\n",
       "        birth year  gender  \n",
       "875757        1971       2  \n",
       "875936        1976       2  \n",
       "877673        1976       2  \n",
       "877907        1988       1  \n",
       "879270        1986       1  "
      ]
     },
     "execution_count": 5,
     "metadata": {},
     "output_type": "execute_result"
    }
   ],
   "source": [
    "df[df['start station id'].isna()].head()"
   ]
  },
  {
   "cell_type": "markdown",
   "metadata": {},
   "source": [
    "It appears that there are a number (2534, to be exact) of records without start and end stations - as in, the coordinates are recorded and are representing different locations, but the station id and station names are missing. This is likely a data recording issue; if we wish, we could reconcile this by checking if the coordinates match with any other named stations, or simply assign new station and ids for each unique location coordinate. Or, depending on the question we want to answer, we can ignore these entries. After all, they account for ~0.01% of our dataset."
   ]
  },
  {
   "cell_type": "markdown",
   "metadata": {},
   "source": [
    "Looking at the station mapping and plotting out the coordinate locations will help us decide what to do with these null values."
   ]
  },
  {
   "cell_type": "markdown",
   "metadata": {},
   "source": [
    "## Unique stations"
   ]
  },
  {
   "cell_type": "markdown",
   "metadata": {},
   "source": [
    "We want to get a sense of how the station id, name, and coordinates are mapped to each other. As an initial check, we obtain the unique number of start station ids, names, and coordinates."
   ]
  },
  {
   "cell_type": "code",
   "execution_count": 18,
   "metadata": {},
   "outputs": [
    {
     "data": {
      "text/plain": [
       "930"
      ]
     },
     "metadata": {},
     "output_type": "display_data"
    },
    {
     "data": {
      "text/plain": [
       "3362"
      ]
     },
     "metadata": {},
     "output_type": "display_data"
    },
    {
     "data": {
      "text/plain": [
       "831"
      ]
     },
     "metadata": {},
     "output_type": "display_data"
    }
   ],
   "source": [
    "st = list(set(zip(df['start station longitude'], df['start station latitude'])))\n",
    "display(len(st))\n",
    "\n",
    "stid = list(set(df['start station id']))\n",
    "display(len(stid))\n",
    "\n",
    "stnm = list(set(df['start station name']))\n",
    "display(len(stnm))"
   ]
  },
  {
   "cell_type": "markdown",
   "metadata": {},
   "source": [
    "Uh oh. There appears to be more coordinates and ids than station names. Something must be going on."
   ]
  },
  {
   "cell_type": "code",
   "execution_count": 19,
   "metadata": {},
   "outputs": [
    {
     "data": {
      "text/plain": [
       "965"
      ]
     },
     "metadata": {},
     "output_type": "display_data"
    },
    {
     "data": {
      "text/plain": [
       "3394"
      ]
     },
     "metadata": {},
     "output_type": "display_data"
    },
    {
     "data": {
      "text/plain": [
       "863"
      ]
     },
     "metadata": {},
     "output_type": "display_data"
    }
   ],
   "source": [
    "ed = list(set(zip(df['end station longitude'], df['end station latitude'])))\n",
    "display(len(ed))\n",
    "\n",
    "edid = list(set(df['end station id']))\n",
    "display(len(edid))\n",
    "\n",
    "ednm = list(set(df['end station name']))\n",
    "display(len(ednm))"
   ]
  },
  {
   "cell_type": "markdown",
   "metadata": {},
   "source": [
    "Similarly, the end station mapping doesn't seem to be 1-1 and onto. And there appears to be more end stations represented than start stations."
   ]
  },
  {
   "cell_type": "markdown",
   "metadata": {},
   "source": [
    "We will resort to plotting some of these coordinates to find out where they actually are."
   ]
  },
  {
   "cell_type": "code",
   "execution_count": 22,
   "metadata": {},
   "outputs": [
    {
     "data": {
      "text/plain": [
       "<matplotlib.collections.PathCollection at 0x2323ac668>"
      ]
     },
     "execution_count": 22,
     "metadata": {},
     "output_type": "execute_result"
    },
    {
     "data": {
      "image/png": "[encoded data removed]",
      "text/plain": [
       "<Figure size 360x360 with 1 Axes>"
      ]
     },
     "metadata": {},
     "output_type": "display_data"
    }
   ],
   "source": [
    "sns.set()\n",
    "plt.figure(figsize = (5, 5))\n",
    "plt.scatter(*zip(*st), color = 'yellow', marker = 'o', alpha = 0.5, s = 1)\n",
    "plt.scatter(*zip(*ed), color = 'tab:blue', marker = 'o', alpha = 0.5, s = 1)"
   ]
  },
  {
   "cell_type": "markdown",
   "metadata": {},
   "source": [
    "Yikes! That blue dot on the upper right corner does not look right. After a real-life coordinate check, we find out that it in fact represents a \"station\" in Montreal... Imagine what could be the story of that trip. On the other hand, we could vaguely make out a shape of Manhattan from the lower left blob of the plot. We will take more advantage of this as we zoom in on this part."
   ]
  },
  {
   "cell_type": "code",
   "execution_count": 23,
   "metadata": {},
   "outputs": [
    {
     "data": {
      "text/plain": [
       "(40.6, 40.9)"
      ]
     },
     "execution_count": 23,
     "metadata": {},
     "output_type": "execute_result"
    },
    {
     "data": {
      "image/png": "[encoded data removed]",
      "text/plain": [
       "<Figure size 864x504 with 1 Axes>"
      ]
     },
     "metadata": {},
     "output_type": "display_data"
    }
   ],
   "source": [
    "plt.figure(figsize = (12, 7))\n",
    "plt.scatter(*zip(*st), color = 'yellow', marker = 'o', alpha = 0.5, s = 8)\n",
    "plt.scatter(*zip(*ed), color = 'tab:blue', marker = 'o', alpha = 0.5, s = 8)\n",
    "plt.xlim(-74.1, -73.85)\n",
    "plt.ylim(40.6, 40.9)"
   ]
  },
  {
   "cell_type": "markdown",
   "metadata": {},
   "source": [
    "Now you can tell which cluster is Manhattan -- and even the emptiness in the middle that is central park! The other components represent stations in Brooklyn, Queens, and other surrounding burroughs. \n",
    "\n",
    "There is a rather orderly looking blob on the upper right; we dug up the data and find out that these are in fact the records with null station names and ids. Mystery solved! We will remove these records from our dataset.\n",
    "\n",
    "Notice that there are some scattered blue points on the left side. These stations are located in Jersey. They are colored blue because the trips ended there, but no trips started from those stations. (The stations that are both represented in start stations and end stations are green, since green = blue + yellow.) This is because our dataset contains only trips that started from stations in New York. There is a separate dataset that contains all trips started from stations in Jersey. For our purposes, we will only consider trips that start and end in New York, so we will remove these records from our dataset."
   ]
  },
  {
   "cell_type": "code",
   "execution_count": 29,
   "metadata": {},
   "outputs": [
    {
     "data": {
      "text/plain": [
       "(40.625, 40.825)"
      ]
     },
     "execution_count": 29,
     "metadata": {},
     "output_type": "execute_result"
    },
    {
     "data": {
      "image/png": "[encoded data removed]",
      "text/plain": [
       "<Figure size 864x504 with 1 Axes>"
      ]
     },
     "metadata": {},
     "output_type": "display_data"
    }
   ],
   "source": [
    "plt.figure(figsize = (12, 7))\n",
    "plt.scatter(*zip(*st), color = 'yellow', marker = 'o', alpha = 0.5, s = 8)\n",
    "plt.scatter(*zip(*ed), color = 'tab:blue', marker = 'o', alpha = 0.5, s = 8)\n",
    "plt.xlim(-74.026, -73.90)\n",
    "plt.ylim(40.625, 40.825)"
   ]
  },
  {
   "cell_type": "markdown",
   "metadata": {},
   "source": [
    "This is our final version of coordinates considered! We determined the cutoffs for the coordinates based on the plot above. We are happy that most points are green, with a few exceptions."
   ]
  },
  {
   "cell_type": "code",
   "execution_count": 30,
   "metadata": {},
   "outputs": [],
   "source": [
    "df = df[(df['start station latitude'].between(40.625, 40.825))&(df['start station longitude'].between(-74.026, -73.90))\n",
    "   &(df['end station latitude'].between(40.625, 40.825))&(df['end station longitude'].between(-74.026, -73.90))]"
   ]
  },
  {
   "cell_type": "markdown",
   "metadata": {},
   "source": [
    "After this round of cleaning, we tally the number of nulls again, as well as unique number of start and stations."
   ]
  },
  {
   "cell_type": "code",
   "execution_count": 32,
   "metadata": {},
   "outputs": [
    {
     "data": {
      "text/plain": [
       "tripduration               0\n",
       "starttime                  0\n",
       "stoptime                   0\n",
       "start station id           0\n",
       "start station name         0\n",
       "start station latitude     0\n",
       "start station longitude    0\n",
       "end station id             0\n",
       "end station name           0\n",
       "end station latitude       0\n",
       "end station longitude      0\n",
       "bikeid                     0\n",
       "usertype                   0\n",
       "birth year                 0\n",
       "gender                     0\n",
       "dtype: int64"
      ]
     },
     "metadata": {},
     "output_type": "display_data"
    }
   ],
   "source": [
    "display(df.isna().sum())"
   ]
  },
  {
   "cell_type": "code",
   "execution_count": 35,
   "metadata": {},
   "outputs": [
    {
     "ename": "SyntaxError",
     "evalue": "invalid syntax (<ipython-input-35-dc3f5b814336>, line 1)",
     "output_type": "error",
     "traceback": [
      "\u001b[0;36m  File \u001b[0;32m\"<ipython-input-35-dc3f5b814336>\"\u001b[0;36m, line \u001b[0;32m1\u001b[0m\n\u001b[0;31m    No more nulls!\u001b[0m\n\u001b[0m          ^\u001b[0m\n\u001b[0;31mSyntaxError\u001b[0m\u001b[0;31m:\u001b[0m invalid syntax\n"
     ]
    }
   ],
   "source": [
    "No more nulls!"
   ]
  },
  {
   "cell_type": "code",
   "execution_count": 33,
   "metadata": {},
   "outputs": [
    {
     "data": {
      "text/plain": [
       "828"
      ]
     },
     "metadata": {},
     "output_type": "display_data"
    },
    {
     "data": {
      "text/plain": [
       "826"
      ]
     },
     "metadata": {},
     "output_type": "display_data"
    },
    {
     "data": {
      "text/plain": [
       "828"
      ]
     },
     "metadata": {},
     "output_type": "display_data"
    }
   ],
   "source": [
    "st = list(set(zip(df['start station longitude'], df['start station latitude'])))\n",
    "display(len(st))\n",
    "\n",
    "stid = list(set(df['start station id']))\n",
    "display(len(stid))\n",
    "\n",
    "stnm = list(set(df['start station name']))\n",
    "display(len(stnm))"
   ]
  },
  {
   "cell_type": "code",
   "execution_count": 34,
   "metadata": {},
   "outputs": [
    {
     "data": {
      "text/plain": [
       "831"
      ]
     },
     "metadata": {},
     "output_type": "display_data"
    },
    {
     "data": {
      "text/plain": [
       "829"
      ]
     },
     "metadata": {},
     "output_type": "display_data"
    },
    {
     "data": {
      "text/plain": [
       "831"
      ]
     },
     "metadata": {},
     "output_type": "display_data"
    }
   ],
   "source": [
    "ed = list(set(zip(df['end station longitude'], df['end station latitude'])))\n",
    "display(len(ed))\n",
    "\n",
    "edid = list(set(df['end station id']))\n",
    "display(len(edid))\n",
    "\n",
    "ednm = list(set(df['end station name']))\n",
    "display(len(ednm))"
   ]
  },
  {
   "cell_type": "markdown",
   "metadata": {},
   "source": [
    "The number of station id and coordinates are similar, but still inconsistent. A quick look at the mapping tells us that certain stations appeared to have changed names, ids, and/or coordinates throughout the year. "
   ]
  },
  {
   "cell_type": "code",
   "execution_count": 36,
   "metadata": {},
   "outputs": [
    {
     "data": {
      "text/html": [
       "<div>\n",
       "<style scoped>\n",
       "    .dataframe tbody tr th:only-of-type {\n",
       "        vertical-align: middle;\n",
       "    }\n",
       "\n",
       "    .dataframe tbody tr th {\n",
       "        vertical-align: top;\n",
       "    }\n",
       "\n",
       "    .dataframe thead th {\n",
       "        text-align: right;\n",
       "    }\n",
       "</style>\n",
       "<table border=\"1\" class=\"dataframe\">\n",
       "  <thead>\n",
       "    <tr style=\"text-align: right;\">\n",
       "      <th></th>\n",
       "      <th>start station name</th>\n",
       "      <th>start station id</th>\n",
       "    </tr>\n",
       "  </thead>\n",
       "  <tbody>\n",
       "    <tr>\n",
       "      <th>15</th>\n",
       "      <td>11 Ave &amp; W 59 St</td>\n",
       "      <td>2</td>\n",
       "    </tr>\n",
       "    <tr>\n",
       "      <th>330</th>\n",
       "      <td>E 13 St &amp; Avenue A</td>\n",
       "      <td>2</td>\n",
       "    </tr>\n",
       "    <tr>\n",
       "      <th>448</th>\n",
       "      <td>Frost St &amp; Meeker Ave</td>\n",
       "      <td>2</td>\n",
       "    </tr>\n",
       "    <tr>\n",
       "      <th>489</th>\n",
       "      <td>Henry St &amp; W 9 St</td>\n",
       "      <td>2</td>\n",
       "    </tr>\n",
       "    <tr>\n",
       "      <th>729</th>\n",
       "      <td>W 13 St &amp; 5 Ave</td>\n",
       "      <td>2</td>\n",
       "    </tr>\n",
       "    <tr>\n",
       "      <th>769</th>\n",
       "      <td>W 45 St &amp; 6 Ave</td>\n",
       "      <td>2</td>\n",
       "    </tr>\n",
       "  </tbody>\n",
       "</table>\n",
       "</div>"
      ],
      "text/plain": [
       "        start station name  start station id\n",
       "15        11 Ave & W 59 St                 2\n",
       "330     E 13 St & Avenue A                 2\n",
       "448  Frost St & Meeker Ave                 2\n",
       "489      Henry St & W 9 St                 2\n",
       "729        W 13 St & 5 Ave                 2\n",
       "769        W 45 St & 6 Ave                 2"
      ]
     },
     "execution_count": 36,
     "metadata": {},
     "output_type": "execute_result"
    }
   ],
   "source": [
    "ids = df[['start station longitude', 'start station latitude','start station id', 'start station name']].drop_duplicates().groupby(['start station name'])['start station id'].count().reset_index()\n",
    "ids[ids['start station id']!=1]"
   ]
  },
  {
   "cell_type": "code",
   "execution_count": 46,
   "metadata": {},
   "outputs": [
    {
     "data": {
      "text/html": [
       "<div>\n",
       "<style scoped>\n",
       "    .dataframe tbody tr th:only-of-type {\n",
       "        vertical-align: middle;\n",
       "    }\n",
       "\n",
       "    .dataframe tbody tr th {\n",
       "        vertical-align: top;\n",
       "    }\n",
       "\n",
       "    .dataframe thead th {\n",
       "        text-align: right;\n",
       "    }\n",
       "</style>\n",
       "<table border=\"1\" class=\"dataframe\">\n",
       "  <thead>\n",
       "    <tr style=\"text-align: right;\">\n",
       "      <th></th>\n",
       "      <th>start station id</th>\n",
       "      <th>start station name</th>\n",
       "      <th>start station longitude</th>\n",
       "      <th>start station latitude</th>\n",
       "    </tr>\n",
       "  </thead>\n",
       "  <tbody>\n",
       "    <tr>\n",
       "      <th>96866</th>\n",
       "      <td>253.0</td>\n",
       "      <td>W 13 St &amp; 5 Ave</td>\n",
       "      <td>-73.994539</td>\n",
       "      <td>40.735439</td>\n",
       "    </tr>\n",
       "    <tr>\n",
       "      <th>868</th>\n",
       "      <td>253.0</td>\n",
       "      <td>W 13 St &amp; 5 Ave -moved to 5947.04</td>\n",
       "      <td>-73.994539</td>\n",
       "      <td>40.735439</td>\n",
       "    </tr>\n",
       "    <tr>\n",
       "      <th>420033</th>\n",
       "      <td>433.0</td>\n",
       "      <td>E 13 St &amp; Avenue A</td>\n",
       "      <td>-73.980572</td>\n",
       "      <td>40.729554</td>\n",
       "    </tr>\n",
       "    <tr>\n",
       "      <th>1</th>\n",
       "      <td>433.0</td>\n",
       "      <td>old - E 13 St &amp; Avenue A</td>\n",
       "      <td>-73.980572</td>\n",
       "      <td>40.729554</td>\n",
       "    </tr>\n",
       "    <tr>\n",
       "      <th>730288</th>\n",
       "      <td>530.0</td>\n",
       "      <td>11 Ave &amp; W 59 St</td>\n",
       "      <td>-73.990541</td>\n",
       "      <td>40.771522</td>\n",
       "    </tr>\n",
       "    <tr>\n",
       "      <th>306</th>\n",
       "      <td>530.0</td>\n",
       "      <td>11 Ave &amp; W 59 St</td>\n",
       "      <td>-73.990460</td>\n",
       "      <td>40.771497</td>\n",
       "    </tr>\n",
       "    <tr>\n",
       "      <th>1130942</th>\n",
       "      <td>3040.0</td>\n",
       "      <td>GOW Tech Shop</td>\n",
       "      <td>-73.994980</td>\n",
       "      <td>40.669800</td>\n",
       "    </tr>\n",
       "    <tr>\n",
       "      <th>986988</th>\n",
       "      <td>3040.0</td>\n",
       "      <td>Handlebar @ Gowanus</td>\n",
       "      <td>-73.994980</td>\n",
       "      <td>40.669800</td>\n",
       "    </tr>\n",
       "    <tr>\n",
       "      <th>986597</th>\n",
       "      <td>3243.0</td>\n",
       "      <td>E 58 St &amp; 1 Ave</td>\n",
       "      <td>-73.962262</td>\n",
       "      <td>40.758924</td>\n",
       "    </tr>\n",
       "    <tr>\n",
       "      <th>708</th>\n",
       "      <td>3243.0</td>\n",
       "      <td>E 58 St &amp; 1 Ave (NE Corner)</td>\n",
       "      <td>-73.962262</td>\n",
       "      <td>40.758924</td>\n",
       "    </tr>\n",
       "    <tr>\n",
       "      <th>1194457</th>\n",
       "      <td>3466.0</td>\n",
       "      <td>W 45 St &amp; 6 Ave (OLD)</td>\n",
       "      <td>-73.982577</td>\n",
       "      <td>40.756687</td>\n",
       "    </tr>\n",
       "    <tr>\n",
       "      <th>938508</th>\n",
       "      <td>3466.0</td>\n",
       "      <td>W 45 St &amp; 6 Ave</td>\n",
       "      <td>-73.982577</td>\n",
       "      <td>40.756687</td>\n",
       "    </tr>\n",
       "    <tr>\n",
       "      <th>1303247</th>\n",
       "      <td>3669.0</td>\n",
       "      <td>Henry St &amp; W 9 St</td>\n",
       "      <td>-74.003140</td>\n",
       "      <td>40.676304</td>\n",
       "    </tr>\n",
       "    <tr>\n",
       "      <th>1967</th>\n",
       "      <td>3669.0</td>\n",
       "      <td>Henry St &amp; W 9 St (OLD)</td>\n",
       "      <td>-74.003140</td>\n",
       "      <td>40.676304</td>\n",
       "    </tr>\n",
       "    <tr>\n",
       "      <th>922962</th>\n",
       "      <td>3727.0</td>\n",
       "      <td>Frost St &amp; Meeker Ave</td>\n",
       "      <td>-73.947520</td>\n",
       "      <td>40.717848</td>\n",
       "    </tr>\n",
       "    <tr>\n",
       "      <th>1273</th>\n",
       "      <td>3727.0</td>\n",
       "      <td>Frost St &amp; Meeker Ave</td>\n",
       "      <td>-73.948800</td>\n",
       "      <td>40.717662</td>\n",
       "    </tr>\n",
       "  </tbody>\n",
       "</table>\n",
       "</div>"
      ],
      "text/plain": [
       "         start station id                 start station name  \\\n",
       "96866               253.0                    W 13 St & 5 Ave   \n",
       "868                 253.0  W 13 St & 5 Ave -moved to 5947.04   \n",
       "420033              433.0                 E 13 St & Avenue A   \n",
       "1                   433.0           old - E 13 St & Avenue A   \n",
       "730288              530.0                   11 Ave & W 59 St   \n",
       "306                 530.0                   11 Ave & W 59 St   \n",
       "1130942            3040.0                      GOW Tech Shop   \n",
       "986988             3040.0                Handlebar @ Gowanus   \n",
       "986597             3243.0                    E 58 St & 1 Ave   \n",
       "708                3243.0        E 58 St & 1 Ave (NE Corner)   \n",
       "1194457            3466.0              W 45 St & 6 Ave (OLD)   \n",
       "938508             3466.0                    W 45 St & 6 Ave   \n",
       "1303247            3669.0                  Henry St & W 9 St   \n",
       "1967               3669.0            Henry St & W 9 St (OLD)   \n",
       "922962             3727.0              Frost St & Meeker Ave   \n",
       "1273               3727.0              Frost St & Meeker Ave   \n",
       "\n",
       "         start station longitude  start station latitude  \n",
       "96866                 -73.994539               40.735439  \n",
       "868                   -73.994539               40.735439  \n",
       "420033                -73.980572               40.729554  \n",
       "1                     -73.980572               40.729554  \n",
       "730288                -73.990541               40.771522  \n",
       "306                   -73.990460               40.771497  \n",
       "1130942               -73.994980               40.669800  \n",
       "986988                -73.994980               40.669800  \n",
       "986597                -73.962262               40.758924  \n",
       "708                   -73.962262               40.758924  \n",
       "1194457               -73.982577               40.756687  \n",
       "938508                -73.982577               40.756687  \n",
       "1303247               -74.003140               40.676304  \n",
       "1967                  -74.003140               40.676304  \n",
       "922962                -73.947520               40.717848  \n",
       "1273                  -73.948800               40.717662  "
      ]
     },
     "execution_count": 46,
     "metadata": {},
     "output_type": "execute_result"
    }
   ],
   "source": [
    "ids = df[['start station longitude', 'start station latitude','start station id', 'start station name']].drop_duplicates().groupby(['start station id'])['start station name'].count().reset_index()\n",
    "df[df['start station id'].isin(list(ids[ids['start station name']!=1]['start station id']))][['start station id', 'start station name', 'start station longitude', 'start station latitude']].drop_duplicates().sort_values(by ='start station id')"
   ]
  },
  {
   "cell_type": "markdown",
   "metadata": {},
   "source": [
    "We won't go into too many details here. But for the sake of simplicity, we will henceforth assume that no matter how the station id and names change, the coordinates (latitude, longitude) will uniquely represent the start location."
   ]
  },
  {
   "cell_type": "markdown",
   "metadata": {},
   "source": [
    "## Old and new stations"
   ]
  },
  {
   "cell_type": "markdown",
   "metadata": {},
   "source": [
    "As one can imagine, throughout the year, some stations will close, and new ones will open. There is no great way to know exactly, since we can only assume from the first and last trips from stations. If we were looking for a station-specific analyses, we may want to exclude ones that appear to have later start dates, or early last trip dates."
   ]
  },
  {
   "cell_type": "code",
   "execution_count": 48,
   "metadata": {
    "scrolled": true
   },
   "outputs": [
    {
     "data": {
      "text/plain": [
       "start station name\n",
       "Lexington Ave & E 36 St         2019-03-13 11:04:13.4130\n",
       "E 58 St &  1 Ave (NW Corner)    2019-03-08 10:18:18.9130\n",
       "6 Ave & Broome St               2019-03-07 12:47:43.6160\n",
       "E 84 St & 3 Ave                 2019-03-04 12:42:54.5370\n",
       "E 58 St & 1 Ave (NE Corner)     2019-03-01 06:04:55.6880\n",
       "Name: starttime, dtype: object"
      ]
     },
     "execution_count": 48,
     "metadata": {},
     "output_type": "execute_result"
    }
   ],
   "source": [
    "df.groupby(['start station name'])['starttime'].first().sort_values(ascending = False).head()"
   ]
  },
  {
   "cell_type": "code",
   "execution_count": 49,
   "metadata": {},
   "outputs": [
    {
     "data": {
      "text/plain": [
       "start station name\n",
       "Warren St & Church St    2018-04-10 09:05:58.7550\n",
       "Greenwich Ave & 8 Ave    2018-04-12 08:25:40.7350\n",
       "E 41 St & 5 Ave          2018-04-16 00:43:04.9120\n",
       "E 95 St & 3 Ave          2018-05-03 11:36:36.5280\n",
       "W 13 St & Hudson St      2018-05-11 12:02:49.4400\n",
       "Name: starttime, dtype: object"
      ]
     },
     "execution_count": 49,
     "metadata": {},
     "output_type": "execute_result"
    }
   ],
   "source": [
    "df.groupby(['start station name'])['starttime'].last().sort_values(ascending = True).head()"
   ]
  },
  {
   "cell_type": "markdown",
   "metadata": {},
   "source": [
    "## Same start & end"
   ]
  },
  {
   "cell_type": "markdown",
   "metadata": {},
   "source": [
    "And there are also the cases where a record starts and ends at the same station. The dataset has already filtered out those trips that last less than 60s and start/end at the same station. If we were to use these record as a proxy for trips (i.e. using the bike to go from one place to another), we would filter out these records."
   ]
  },
  {
   "cell_type": "code",
   "execution_count": 50,
   "metadata": {},
   "outputs": [
    {
     "data": {
      "text/html": [
       "<div>\n",
       "<style scoped>\n",
       "    .dataframe tbody tr th:only-of-type {\n",
       "        vertical-align: middle;\n",
       "    }\n",
       "\n",
       "    .dataframe tbody tr th {\n",
       "        vertical-align: top;\n",
       "    }\n",
       "\n",
       "    .dataframe thead th {\n",
       "        text-align: right;\n",
       "    }\n",
       "</style>\n",
       "<table border=\"1\" class=\"dataframe\">\n",
       "  <thead>\n",
       "    <tr style=\"text-align: right;\">\n",
       "      <th></th>\n",
       "      <th>tripduration</th>\n",
       "      <th>starttime</th>\n",
       "      <th>stoptime</th>\n",
       "      <th>start station id</th>\n",
       "      <th>start station name</th>\n",
       "      <th>start station latitude</th>\n",
       "      <th>start station longitude</th>\n",
       "      <th>end station id</th>\n",
       "      <th>end station name</th>\n",
       "      <th>end station latitude</th>\n",
       "      <th>end station longitude</th>\n",
       "      <th>bikeid</th>\n",
       "      <th>usertype</th>\n",
       "      <th>birth year</th>\n",
       "      <th>gender</th>\n",
       "    </tr>\n",
       "  </thead>\n",
       "  <tbody>\n",
       "    <tr>\n",
       "      <th>342194</th>\n",
       "      <td>61</td>\n",
       "      <td>2019-01-10 17:14:37.1740</td>\n",
       "      <td>2019-01-10 17:15:38.3210</td>\n",
       "      <td>517.0</td>\n",
       "      <td>Pershing Square South</td>\n",
       "      <td>40.751581</td>\n",
       "      <td>-73.977910</td>\n",
       "      <td>517.0</td>\n",
       "      <td>Pershing Square South</td>\n",
       "      <td>40.751581</td>\n",
       "      <td>-73.977910</td>\n",
       "      <td>34033</td>\n",
       "      <td>Subscriber</td>\n",
       "      <td>1979</td>\n",
       "      <td>1</td>\n",
       "    </tr>\n",
       "    <tr>\n",
       "      <th>367106</th>\n",
       "      <td>61</td>\n",
       "      <td>2018-11-07 20:02:38.7930</td>\n",
       "      <td>2018-11-07 20:03:40.5430</td>\n",
       "      <td>3164.0</td>\n",
       "      <td>Columbus Ave &amp; W 72 St</td>\n",
       "      <td>40.777057</td>\n",
       "      <td>-73.978985</td>\n",
       "      <td>3164.0</td>\n",
       "      <td>Columbus Ave &amp; W 72 St</td>\n",
       "      <td>40.777057</td>\n",
       "      <td>-73.978985</td>\n",
       "      <td>34317</td>\n",
       "      <td>Subscriber</td>\n",
       "      <td>1982</td>\n",
       "      <td>1</td>\n",
       "    </tr>\n",
       "    <tr>\n",
       "      <th>1237539</th>\n",
       "      <td>61</td>\n",
       "      <td>2018-06-12 17:55:52.7070</td>\n",
       "      <td>2018-06-12 17:56:54.2430</td>\n",
       "      <td>3088.0</td>\n",
       "      <td>Union Ave &amp; Jackson St</td>\n",
       "      <td>40.716075</td>\n",
       "      <td>-73.952029</td>\n",
       "      <td>3088.0</td>\n",
       "      <td>Union Ave &amp; Jackson St</td>\n",
       "      <td>40.716075</td>\n",
       "      <td>-73.952029</td>\n",
       "      <td>25020</td>\n",
       "      <td>Subscriber</td>\n",
       "      <td>1980</td>\n",
       "      <td>2</td>\n",
       "    </tr>\n",
       "    <tr>\n",
       "      <th>1235843</th>\n",
       "      <td>61</td>\n",
       "      <td>2018-06-13 09:07:36.5490</td>\n",
       "      <td>2018-06-13 09:08:37.6310</td>\n",
       "      <td>3087.0</td>\n",
       "      <td>Metropolitan Ave &amp; Meeker Ave</td>\n",
       "      <td>40.714133</td>\n",
       "      <td>-73.952344</td>\n",
       "      <td>3087.0</td>\n",
       "      <td>Metropolitan Ave &amp; Meeker Ave</td>\n",
       "      <td>40.714133</td>\n",
       "      <td>-73.952344</td>\n",
       "      <td>19550</td>\n",
       "      <td>Subscriber</td>\n",
       "      <td>1985</td>\n",
       "      <td>1</td>\n",
       "    </tr>\n",
       "    <tr>\n",
       "      <th>1072372</th>\n",
       "      <td>61</td>\n",
       "      <td>2019-03-27 10:28:16.6790</td>\n",
       "      <td>2019-03-27 10:29:17.8770</td>\n",
       "      <td>3231.0</td>\n",
       "      <td>E 67 St &amp; Park Ave</td>\n",
       "      <td>40.767801</td>\n",
       "      <td>-73.965921</td>\n",
       "      <td>3231.0</td>\n",
       "      <td>E 67 St &amp; Park Ave</td>\n",
       "      <td>40.767801</td>\n",
       "      <td>-73.965921</td>\n",
       "      <td>34811</td>\n",
       "      <td>Subscriber</td>\n",
       "      <td>1993</td>\n",
       "      <td>2</td>\n",
       "    </tr>\n",
       "  </tbody>\n",
       "</table>\n",
       "</div>"
      ],
      "text/plain": [
       "         tripduration                 starttime                  stoptime  \\\n",
       "342194             61  2019-01-10 17:14:37.1740  2019-01-10 17:15:38.3210   \n",
       "367106             61  2018-11-07 20:02:38.7930  2018-11-07 20:03:40.5430   \n",
       "1237539            61  2018-06-12 17:55:52.7070  2018-06-12 17:56:54.2430   \n",
       "1235843            61  2018-06-13 09:07:36.5490  2018-06-13 09:08:37.6310   \n",
       "1072372            61  2019-03-27 10:28:16.6790  2019-03-27 10:29:17.8770   \n",
       "\n",
       "         start station id             start station name  \\\n",
       "342194              517.0          Pershing Square South   \n",
       "367106             3164.0         Columbus Ave & W 72 St   \n",
       "1237539            3088.0         Union Ave & Jackson St   \n",
       "1235843            3087.0  Metropolitan Ave & Meeker Ave   \n",
       "1072372            3231.0             E 67 St & Park Ave   \n",
       "\n",
       "         start station latitude  start station longitude  end station id  \\\n",
       "342194                40.751581               -73.977910           517.0   \n",
       "367106                40.777057               -73.978985          3164.0   \n",
       "1237539               40.716075               -73.952029          3088.0   \n",
       "1235843               40.714133               -73.952344          3087.0   \n",
       "1072372               40.767801               -73.965921          3231.0   \n",
       "\n",
       "                      end station name  end station latitude  \\\n",
       "342194           Pershing Square South             40.751581   \n",
       "367106          Columbus Ave & W 72 St             40.777057   \n",
       "1237539         Union Ave & Jackson St             40.716075   \n",
       "1235843  Metropolitan Ave & Meeker Ave             40.714133   \n",
       "1072372             E 67 St & Park Ave             40.767801   \n",
       "\n",
       "         end station longitude  bikeid    usertype  birth year  gender  \n",
       "342194              -73.977910   34033  Subscriber        1979       1  \n",
       "367106              -73.978985   34317  Subscriber        1982       1  \n",
       "1237539             -73.952029   25020  Subscriber        1980       2  \n",
       "1235843             -73.952344   19550  Subscriber        1985       1  \n",
       "1072372             -73.965921   34811  Subscriber        1993       2  "
      ]
     },
     "execution_count": 50,
     "metadata": {},
     "output_type": "execute_result"
    }
   ],
   "source": [
    "df[df['start station name']==df['end station name']].sort_values(by = 'tripduration').head()"
   ]
  },
  {
   "cell_type": "markdown",
   "metadata": {},
   "source": [
    "## Trip duration"
   ]
  },
  {
   "cell_type": "markdown",
   "metadata": {},
   "source": [
    "We can find some huge outliers by looking at the trip duration column. What could have happened in a bike's 10283682s-long journey? One can only imagine -- it could be a stolen bike case, or a bike gone to repair -- regardless, not a great proxy for a bike trip."
   ]
  },
  {
   "cell_type": "code",
   "execution_count": 52,
   "metadata": {},
   "outputs": [
    {
     "data": {
      "text/html": [
       "<div>\n",
       "<style scoped>\n",
       "    .dataframe tbody tr th:only-of-type {\n",
       "        vertical-align: middle;\n",
       "    }\n",
       "\n",
       "    .dataframe tbody tr th {\n",
       "        vertical-align: top;\n",
       "    }\n",
       "\n",
       "    .dataframe thead th {\n",
       "        text-align: right;\n",
       "    }\n",
       "</style>\n",
       "<table border=\"1\" class=\"dataframe\">\n",
       "  <thead>\n",
       "    <tr style=\"text-align: right;\">\n",
       "      <th></th>\n",
       "      <th>tripduration</th>\n",
       "      <th>starttime</th>\n",
       "      <th>stoptime</th>\n",
       "      <th>start station id</th>\n",
       "      <th>start station name</th>\n",
       "      <th>start station latitude</th>\n",
       "      <th>start station longitude</th>\n",
       "      <th>end station id</th>\n",
       "      <th>end station name</th>\n",
       "      <th>end station latitude</th>\n",
       "      <th>end station longitude</th>\n",
       "      <th>bikeid</th>\n",
       "      <th>usertype</th>\n",
       "      <th>birth year</th>\n",
       "      <th>gender</th>\n",
       "    </tr>\n",
       "  </thead>\n",
       "  <tbody>\n",
       "    <tr>\n",
       "      <th>353727</th>\n",
       "      <td>10283682</td>\n",
       "      <td>2018-05-05 13:46:13.0220</td>\n",
       "      <td>2018-09-01 14:20:55.7330</td>\n",
       "      <td>343.0</td>\n",
       "      <td>Clinton Ave &amp; Flushing Ave</td>\n",
       "      <td>40.697940</td>\n",
       "      <td>-73.969868</td>\n",
       "      <td>3081.0</td>\n",
       "      <td>Graham Ave &amp; Grand St</td>\n",
       "      <td>40.711863</td>\n",
       "      <td>-73.944024</td>\n",
       "      <td>24939</td>\n",
       "      <td>Customer</td>\n",
       "      <td>1969</td>\n",
       "      <td>0</td>\n",
       "    </tr>\n",
       "    <tr>\n",
       "      <th>673036</th>\n",
       "      <td>10172645</td>\n",
       "      <td>2018-04-25 22:51:23.8620</td>\n",
       "      <td>2018-08-21 16:35:29.8510</td>\n",
       "      <td>514.0</td>\n",
       "      <td>12 Ave &amp; W 40 St</td>\n",
       "      <td>40.760875</td>\n",
       "      <td>-74.002777</td>\n",
       "      <td>458.0</td>\n",
       "      <td>11 Ave &amp; W 27 St</td>\n",
       "      <td>40.751396</td>\n",
       "      <td>-74.005226</td>\n",
       "      <td>17655</td>\n",
       "      <td>Subscriber</td>\n",
       "      <td>1978</td>\n",
       "      <td>1</td>\n",
       "    </tr>\n",
       "    <tr>\n",
       "      <th>1747315</th>\n",
       "      <td>9234953</td>\n",
       "      <td>2018-05-21 17:39:07.2160</td>\n",
       "      <td>2018-09-05 14:55:01.1670</td>\n",
       "      <td>3590.0</td>\n",
       "      <td>Carroll St &amp; Franklin Ave</td>\n",
       "      <td>40.667941</td>\n",
       "      <td>-73.958800</td>\n",
       "      <td>3245.0</td>\n",
       "      <td>NYCBS DEPOT - DELANCEY</td>\n",
       "      <td>40.716444</td>\n",
       "      <td>-73.982331</td>\n",
       "      <td>27183</td>\n",
       "      <td>Customer</td>\n",
       "      <td>1982</td>\n",
       "      <td>0</td>\n",
       "    </tr>\n",
       "    <tr>\n",
       "      <th>314058</th>\n",
       "      <td>7667589</td>\n",
       "      <td>2018-04-01 14:22:47.8970</td>\n",
       "      <td>2018-06-29 08:15:57.3130</td>\n",
       "      <td>379.0</td>\n",
       "      <td>W 31 St &amp; 7 Ave</td>\n",
       "      <td>40.749156</td>\n",
       "      <td>-73.991600</td>\n",
       "      <td>497.0</td>\n",
       "      <td>E 17 St &amp; Broadway</td>\n",
       "      <td>40.737050</td>\n",
       "      <td>-73.990093</td>\n",
       "      <td>28287</td>\n",
       "      <td>Customer</td>\n",
       "      <td>1967</td>\n",
       "      <td>2</td>\n",
       "    </tr>\n",
       "    <tr>\n",
       "      <th>1284239</th>\n",
       "      <td>7624862</td>\n",
       "      <td>2018-04-13 14:36:49.9380</td>\n",
       "      <td>2018-07-10 20:37:52.5830</td>\n",
       "      <td>3649.0</td>\n",
       "      <td>W 129 St &amp; Convent Ave</td>\n",
       "      <td>40.814394</td>\n",
       "      <td>-73.953247</td>\n",
       "      <td>3435.0</td>\n",
       "      <td>Grand St &amp; Elizabeth St</td>\n",
       "      <td>40.718822</td>\n",
       "      <td>-73.995960</td>\n",
       "      <td>17094</td>\n",
       "      <td>Customer</td>\n",
       "      <td>1988</td>\n",
       "      <td>2</td>\n",
       "    </tr>\n",
       "  </tbody>\n",
       "</table>\n",
       "</div>"
      ],
      "text/plain": [
       "         tripduration                 starttime                  stoptime  \\\n",
       "353727       10283682  2018-05-05 13:46:13.0220  2018-09-01 14:20:55.7330   \n",
       "673036       10172645  2018-04-25 22:51:23.8620  2018-08-21 16:35:29.8510   \n",
       "1747315       9234953  2018-05-21 17:39:07.2160  2018-09-05 14:55:01.1670   \n",
       "314058        7667589  2018-04-01 14:22:47.8970  2018-06-29 08:15:57.3130   \n",
       "1284239       7624862  2018-04-13 14:36:49.9380  2018-07-10 20:37:52.5830   \n",
       "\n",
       "         start station id          start station name  start station latitude  \\\n",
       "353727              343.0  Clinton Ave & Flushing Ave               40.697940   \n",
       "673036              514.0            12 Ave & W 40 St               40.760875   \n",
       "1747315            3590.0   Carroll St & Franklin Ave               40.667941   \n",
       "314058              379.0             W 31 St & 7 Ave               40.749156   \n",
       "1284239            3649.0      W 129 St & Convent Ave               40.814394   \n",
       "\n",
       "         start station longitude  end station id         end station name  \\\n",
       "353727                -73.969868          3081.0    Graham Ave & Grand St   \n",
       "673036                -74.002777           458.0         11 Ave & W 27 St   \n",
       "1747315               -73.958800          3245.0   NYCBS DEPOT - DELANCEY   \n",
       "314058                -73.991600           497.0       E 17 St & Broadway   \n",
       "1284239               -73.953247          3435.0  Grand St & Elizabeth St   \n",
       "\n",
       "         end station latitude  end station longitude  bikeid    usertype  \\\n",
       "353727              40.711863             -73.944024   24939    Customer   \n",
       "673036              40.751396             -74.005226   17655  Subscriber   \n",
       "1747315             40.716444             -73.982331   27183    Customer   \n",
       "314058              40.737050             -73.990093   28287    Customer   \n",
       "1284239             40.718822             -73.995960   17094    Customer   \n",
       "\n",
       "         birth year  gender  \n",
       "353727         1969       0  \n",
       "673036         1978       1  \n",
       "1747315        1982       0  \n",
       "314058         1967       2  \n",
       "1284239        1988       2  "
      ]
     },
     "execution_count": 52,
     "metadata": {},
     "output_type": "execute_result"
    }
   ],
   "source": [
    "df.sort_values(by = 'tripduration', ascending = False).head()"
   ]
  },
  {
   "cell_type": "markdown",
   "metadata": {},
   "source": [
    "But fret not, the number of records with trip duration under 7200s (2 hours) make up 99.7% of all records."
   ]
  },
  {
   "cell_type": "code",
   "execution_count": 54,
   "metadata": {},
   "outputs": [
    {
     "data": {
      "text/plain": [
       "0.997039434093346"
      ]
     },
     "execution_count": 54,
     "metadata": {},
     "output_type": "execute_result"
    }
   ],
   "source": [
    "df[df['tripduration']<7200].shape[0]/df.shape[0]"
   ]
  },
  {
   "cell_type": "markdown",
   "metadata": {},
   "source": [
    "Plotting all trips under 2 hours, we see that most trips are in fact under half an hour."
   ]
  },
  {
   "cell_type": "code",
   "execution_count": 55,
   "metadata": {},
   "outputs": [
    {
     "data": {
      "text/plain": [
       "<matplotlib.lines.Line2D at 0x273b78a20>"
      ]
     },
     "execution_count": 55,
     "metadata": {},
     "output_type": "execute_result"
    },
    {
     "data": {
      "image/png": "[encoded data removed]",
      "text/plain": [
       "<Figure size 432x288 with 1 Axes>"
      ]
     },
     "metadata": {},
     "output_type": "display_data"
    }
   ],
   "source": [
    "sns.distplot(df[df['tripduration']<7200]['tripduration'], bins = 50)\n",
    "plt.axvline(1800, linestyle = ':')\n",
    "plt.axvline(2700, linestyle = ':')\n",
    "plt.axvline(3600, linestyle = ':')"
   ]
  },
  {
   "cell_type": "markdown",
   "metadata": {},
   "source": [
    "# Calc speed"
   ]
  },
  {
   "cell_type": "markdown",
   "metadata": {},
   "source": [
    "Another way to detect outliers is by looking at the average speed of the rider. Wait, but speed isn't in the data? Let's try to calculate that."
   ]
  },
  {
   "cell_type": "code",
   "execution_count": 66,
   "metadata": {},
   "outputs": [],
   "source": [
    "import math"
   ]
  },
  {
   "cell_type": "markdown",
   "metadata": {},
   "source": [
    "We first estimate the distance between the start and end stations based on their coordinates. We take the two coordinates, and calculate a (wait for it) Manhattan distance between them, which is just the L-1 norm, since the streets and avenues in Manhattan are generally orthogonal. This is going to be a very rough estimate, since we have no way of knowing whether the rider traveled the shortest distance, or if there are indeed orthogonal paths between the start and end stations. Alternatively, we could have pulled data from a Google map API to get the exact shortest route between two coordinate points, but for our purposes, we chose not to go that route."
   ]
  },
  {
   "cell_type": "markdown",
   "metadata": {},
   "source": [
    "Here are two helper functions to calculate distance between two coordinates based on the Haversine function:"
   ]
  },
  {
   "cell_type": "code",
   "execution_count": 62,
   "metadata": {},
   "outputs": [],
   "source": [
    "def haversine(coord1, coord2):\n",
    "    R = 6372800  # Earth radius in meters\n",
    "    lat1, lon1 = coord1\n",
    "    lat2, lon2 = coord2\n",
    "    \n",
    "    phi1, phi2 = math.radians(lat1), math.radians(lat2) \n",
    "    dphi       = math.radians(lat2 - lat1)\n",
    "    dlambda    = math.radians(lon2 - lon1)\n",
    "    \n",
    "    a = math.sin(dphi/2)**2 + \\\n",
    "        math.cos(phi1)*math.cos(phi2)*math.sin(dlambda/2)**2\n",
    "    \n",
    "    return 2*R*math.atan2(math.sqrt(a), math.sqrt(1 - a))"
   ]
  },
  {
   "cell_type": "code",
   "execution_count": 63,
   "metadata": {},
   "outputs": [],
   "source": [
    "def manhattan(coord1, coord2):\n",
    "    x1, y1 = coord1\n",
    "    x2, y2 = coord2\n",
    "    c = (x1, y2)\n",
    "    return haversine(coord1, c)+ haversine(c, coord2)"
   ]
  },
  {
   "cell_type": "markdown",
   "metadata": {},
   "source": [
    "We then calculate the distance based on the start and end coordinates. To speed up the process, we calculate the distances for unique combinations of start and end stations, the. merge it onto our original dataframe."
   ]
  },
  {
   "cell_type": "code",
   "execution_count": 67,
   "metadata": {},
   "outputs": [],
   "source": [
    "tps = df[['start station longitude', 'start station latitude', 'end station longitude', 'end station latitude']].drop_duplicates()\n",
    "tps['start'] = tps.apply(lambda x: (x['start station latitude'], x['start station longitude']), axis = 1)\n",
    "tps['end'] = tps.apply(lambda x: (x['end station latitude'], x['end station longitude']), axis = 1)\n",
    "tps['distance'] = tps.apply(lambda x: manhattan(x['start'], x['end']), axis = 1)\n",
    "tps = tps[['start station longitude', 'start station latitude', 'end station longitude', 'end station latitude', 'distance']]\n",
    "df = df.merge(tps, left_on =['start station longitude', 'start station latitude', 'end station longitude', 'end station latitude'], right_on = ['start station longitude', 'start station latitude', 'end station longitude', 'end station latitude'], how = 'left')"
   ]
  },
  {
   "cell_type": "markdown",
   "metadata": {},
   "source": [
    "We then calculated speed = distance/tripduration. The unit is in m/s."
   ]
  },
  {
   "cell_type": "code",
   "execution_count": 68,
   "metadata": {},
   "outputs": [],
   "source": [
    "df['speed'] = df['distance']/df['tripduration']"
   ]
  },
  {
   "cell_type": "code",
   "execution_count": 74,
   "metadata": {},
   "outputs": [
    {
     "data": {
      "text/html": [
       "<div>\n",
       "<style scoped>\n",
       "    .dataframe tbody tr th:only-of-type {\n",
       "        vertical-align: middle;\n",
       "    }\n",
       "\n",
       "    .dataframe tbody tr th {\n",
       "        vertical-align: top;\n",
       "    }\n",
       "\n",
       "    .dataframe thead th {\n",
       "        text-align: right;\n",
       "    }\n",
       "</style>\n",
       "<table border=\"1\" class=\"dataframe\">\n",
       "  <thead>\n",
       "    <tr style=\"text-align: right;\">\n",
       "      <th></th>\n",
       "      <th>tripduration</th>\n",
       "      <th>starttime</th>\n",
       "      <th>stoptime</th>\n",
       "      <th>start station id</th>\n",
       "      <th>start station name</th>\n",
       "      <th>start station latitude</th>\n",
       "      <th>start station longitude</th>\n",
       "      <th>end station id</th>\n",
       "      <th>end station name</th>\n",
       "      <th>end station latitude</th>\n",
       "      <th>end station longitude</th>\n",
       "      <th>bikeid</th>\n",
       "      <th>usertype</th>\n",
       "      <th>birth year</th>\n",
       "      <th>gender</th>\n",
       "      <th>distance</th>\n",
       "      <th>speed</th>\n",
       "    </tr>\n",
       "  </thead>\n",
       "  <tbody>\n",
       "    <tr>\n",
       "      <th>9716517</th>\n",
       "      <td>170</td>\n",
       "      <td>2018-09-13 19:25:41.9660</td>\n",
       "      <td>2018-09-13 19:28:32.4440</td>\n",
       "      <td>3508.0</td>\n",
       "      <td>St Nicholas Ave &amp; Manhattan Ave</td>\n",
       "      <td>40.809725</td>\n",
       "      <td>-73.953149</td>\n",
       "      <td>3180.0</td>\n",
       "      <td>Brooklyn Bridge Park - Pier 2</td>\n",
       "      <td>40.698780</td>\n",
       "      <td>-73.997120</td>\n",
       "      <td>26119</td>\n",
       "      <td>Subscriber</td>\n",
       "      <td>1988</td>\n",
       "      <td>1</td>\n",
       "      <td>16041.725152</td>\n",
       "      <td>94.363089</td>\n",
       "    </tr>\n",
       "    <tr>\n",
       "      <th>9753069</th>\n",
       "      <td>161</td>\n",
       "      <td>2018-09-14 11:41:26.1340</td>\n",
       "      <td>2018-09-14 11:44:07.4680</td>\n",
       "      <td>3180.0</td>\n",
       "      <td>Brooklyn Bridge Park - Pier 2</td>\n",
       "      <td>40.698780</td>\n",
       "      <td>-73.997120</td>\n",
       "      <td>3374.0</td>\n",
       "      <td>Central Park North &amp; Adam Clayton Powell Blvd</td>\n",
       "      <td>40.799484</td>\n",
       "      <td>-73.955613</td>\n",
       "      <td>30636</td>\n",
       "      <td>Subscriber</td>\n",
       "      <td>1993</td>\n",
       "      <td>1</td>\n",
       "      <td>14701.059083</td>\n",
       "      <td>91.310926</td>\n",
       "    </tr>\n",
       "    <tr>\n",
       "      <th>8103112</th>\n",
       "      <td>69</td>\n",
       "      <td>2018-08-18 17:45:21.6580</td>\n",
       "      <td>2018-08-18 17:46:31.2230</td>\n",
       "      <td>376.0</td>\n",
       "      <td>John St &amp; William St</td>\n",
       "      <td>40.708621</td>\n",
       "      <td>-74.007222</td>\n",
       "      <td>3635.0</td>\n",
       "      <td>W 36 St &amp; 9 Ave</td>\n",
       "      <td>40.754623</td>\n",
       "      <td>-73.995168</td>\n",
       "      <td>14626</td>\n",
       "      <td>Subscriber</td>\n",
       "      <td>1976</td>\n",
       "      <td>1</td>\n",
       "      <td>6132.923595</td>\n",
       "      <td>88.882951</td>\n",
       "    </tr>\n",
       "    <tr>\n",
       "      <th>8125512</th>\n",
       "      <td>88</td>\n",
       "      <td>2018-08-19 11:47:18.2450</td>\n",
       "      <td>2018-08-19 11:48:46.7090</td>\n",
       "      <td>3635.0</td>\n",
       "      <td>W 36 St &amp; 9 Ave</td>\n",
       "      <td>40.754623</td>\n",
       "      <td>-73.995168</td>\n",
       "      <td>376.0</td>\n",
       "      <td>John St &amp; William St</td>\n",
       "      <td>40.708621</td>\n",
       "      <td>-74.007222</td>\n",
       "      <td>32339</td>\n",
       "      <td>Subscriber</td>\n",
       "      <td>1975</td>\n",
       "      <td>1</td>\n",
       "      <td>6132.221201</td>\n",
       "      <td>69.684332</td>\n",
       "    </tr>\n",
       "    <tr>\n",
       "      <th>9701190</th>\n",
       "      <td>253</td>\n",
       "      <td>2018-09-13 17:25:22.5990</td>\n",
       "      <td>2018-09-13 17:29:36.5400</td>\n",
       "      <td>3533.0</td>\n",
       "      <td>St. Nicholas Ave &amp; W 126 St</td>\n",
       "      <td>40.811432</td>\n",
       "      <td>-73.951878</td>\n",
       "      <td>3180.0</td>\n",
       "      <td>Brooklyn Bridge Park - Pier 2</td>\n",
       "      <td>40.698780</td>\n",
       "      <td>-73.997120</td>\n",
       "      <td>31186</td>\n",
       "      <td>Subscriber</td>\n",
       "      <td>1990</td>\n",
       "      <td>1</td>\n",
       "      <td>16338.557270</td>\n",
       "      <td>64.579278</td>\n",
       "    </tr>\n",
       "  </tbody>\n",
       "</table>\n",
       "</div>"
      ],
      "text/plain": [
       "         tripduration                 starttime                  stoptime  \\\n",
       "9716517           170  2018-09-13 19:25:41.9660  2018-09-13 19:28:32.4440   \n",
       "9753069           161  2018-09-14 11:41:26.1340  2018-09-14 11:44:07.4680   \n",
       "8103112            69  2018-08-18 17:45:21.6580  2018-08-18 17:46:31.2230   \n",
       "8125512            88  2018-08-19 11:47:18.2450  2018-08-19 11:48:46.7090   \n",
       "9701190           253  2018-09-13 17:25:22.5990  2018-09-13 17:29:36.5400   \n",
       "\n",
       "         start station id               start station name  \\\n",
       "9716517            3508.0  St Nicholas Ave & Manhattan Ave   \n",
       "9753069            3180.0    Brooklyn Bridge Park - Pier 2   \n",
       "8103112             376.0             John St & William St   \n",
       "8125512            3635.0                  W 36 St & 9 Ave   \n",
       "9701190            3533.0      St. Nicholas Ave & W 126 St   \n",
       "\n",
       "         start station latitude  start station longitude  end station id  \\\n",
       "9716517               40.809725               -73.953149          3180.0   \n",
       "9753069               40.698780               -73.997120          3374.0   \n",
       "8103112               40.708621               -74.007222          3635.0   \n",
       "8125512               40.754623               -73.995168           376.0   \n",
       "9701190               40.811432               -73.951878          3180.0   \n",
       "\n",
       "                                      end station name  end station latitude  \\\n",
       "9716517                  Brooklyn Bridge Park - Pier 2             40.698780   \n",
       "9753069  Central Park North & Adam Clayton Powell Blvd             40.799484   \n",
       "8103112                                W 36 St & 9 Ave             40.754623   \n",
       "8125512                           John St & William St             40.708621   \n",
       "9701190                  Brooklyn Bridge Park - Pier 2             40.698780   \n",
       "\n",
       "         end station longitude  bikeid    usertype  birth year  gender  \\\n",
       "9716517             -73.997120   26119  Subscriber        1988       1   \n",
       "9753069             -73.955613   30636  Subscriber        1993       1   \n",
       "8103112             -73.995168   14626  Subscriber        1976       1   \n",
       "8125512             -74.007222   32339  Subscriber        1975       1   \n",
       "9701190             -73.997120   31186  Subscriber        1990       1   \n",
       "\n",
       "             distance      speed  \n",
       "9716517  16041.725152  94.363089  \n",
       "9753069  14701.059083  91.310926  \n",
       "8103112   6132.923595  88.882951  \n",
       "8125512   6132.221201  69.684332  \n",
       "9701190  16338.557270  64.579278  "
      ]
     },
     "execution_count": 74,
     "metadata": {},
     "output_type": "execute_result"
    }
   ],
   "source": [
    "df.sort_values(by = 'speed', ascending = False).head()"
   ]
  },
  {
   "cell_type": "code",
   "execution_count": 73,
   "metadata": {},
   "outputs": [
    {
     "data": {
      "text/plain": [
       "<matplotlib.axes._subplots.AxesSubplot at 0x2d5667e80>"
      ]
     },
     "execution_count": 73,
     "metadata": {},
     "output_type": "execute_result"
    },
    {
     "data": {
      "image/png": "[encoded data removed]",
      "text/plain": [
       "<Figure size 432x288 with 1 Axes>"
      ]
     },
     "metadata": {},
     "output_type": "display_data"
    }
   ],
   "source": [
    "sns.distplot(df[df['speed']<=10]['speed'], bins = 100)"
   ]
  },
  {
   "cell_type": "markdown",
   "metadata": {},
   "source": [
    "Taking a look at the distribution of speeds, we see that it looks quite like a normal distribution, with a bump closer to 0, and a tail on the right. "
   ]
  },
  {
   "cell_type": "markdown",
   "metadata": {},
   "source": [
    "# Final cleanse"
   ]
  },
  {
   "cell_type": "markdown",
   "metadata": {},
   "source": [
    "Based on our previous analysis on trip duration and speed, we decided on top of our filtered data to keep only records with trip duration less than 2 hours, distance greater than 0 (different start and end points), and speed under 10 m/s. This will be our \"trips\" dataset, in which we use records as a proxy for bike trips taken by riders. "
   ]
  },
  {
   "cell_type": "code",
   "execution_count": null,
   "metadata": {},
   "outputs": [],
   "source": [
    "trips = df[(df['distance']>0)&(df['speed']<10)&(df['tripduration']<7200)]"
   ]
  }
 ],
 "metadata": {
  "_draft": {
   "nbviewer_url": "https://gist.github.com/3fa141eec0f3f931ffc0c78f4e1af21d"
  },
  "gist": {
   "data": {
    "description": "notebooks/bike1.ipynb",
    "public": true
   },
   "id": "3fa141eec0f3f931ffc0c78f4e1af21d"
  },
  "kernelspec": {
   "display_name": "Python 3",
   "language": "python",
   "name": "python3"
  },
  "language_info": {
   "codemirror_mode": {
    "name": "ipython",
    "version": 3
   },
   "file_extension": ".py",
   "mimetype": "text/x-python",
   "name": "python",
   "nbconvert_exporter": "python",
   "pygments_lexer": "ipython3",
   "version": "3.7.0"
  },
  "varInspector": {
   "cols": {
    "lenName": 16,
    "lenType": 16,
    "lenVar": 40
   },
   "kernels_config": {
    "python": {
     "delete_cmd_postfix": "",
     "delete_cmd_prefix": "del ",
     "library": "var_list.py",
     "varRefreshCmd": "print(var_dic_list())"
    },
    "r": {
     "delete_cmd_postfix": ") ",
     "delete_cmd_prefix": "rm(",
     "library": "var_list.r",
     "varRefreshCmd": "cat(var_dic_list()) "
    }
   },
   "types_to_exclude": [
    "module",
    "function",
    "builtin_function_or_method",
    "instance",
    "_Feature"
   ],
   "window_display": false
  }
 },
 "nbformat": 4,
 "nbformat_minor": 2
}
